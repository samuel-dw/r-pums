{
 "cells": [
  {
   "cell_type": "markdown",
   "metadata": {},
   "source": [
    "# I. Introduction\n",
    "# II. Preparing Data\n",
    "# III. Estimates\n",
    "# IV. Standard Error of Estimates\n",
    "# V. Applications"
   ]
  },
  {
   "cell_type": "markdown",
   "metadata": {},
   "source": [
    "# I. Introduction\n",
    "\n",
    "## a. ACS and PUMS\n",
    "\n",
    "The American Community Survey (ACS) produced by the U.S. Census Bureau is an incredbly popular data product with a wide range of applications. ACS surveys U.S. residents on a rolling basis, aiming to sample at least 1% of the U.S. population each year. \n",
    "\n",
    "Individual survey responses to the ACS are aggregated into particular geographies. The smallest geographies are known as Census Blocks and Census Tracts. Census Blocks are the smallest geographic unit, containing between 600 and 3,000 people; Census Tracts are made up of Census Blocks, and contain between 2,500 and 8,000 people. \n",
    "\n",
    "Importantly, the ACS does not primarily provide characteristics of people; it provides characteristics of geographies. \n",
    "\n",
    "The PUMS dataset, on the other hand, is a disaggregated form of the ACS. While the ACS provides characteristics of geographies (such as median income, racial composistion, etc., of the geography), PUMS provides the actual, individual responses to the ACS (with some limitations, described below). \n",
    "\n",
    "The responses represented in PUMS are aggregated at a geography known as a Public Use Microsample Area (PUMA). PUMAs contain around 100,000 people.\n",
    "\n",
    "## b. Advantages PUMS\n",
    "\n",
    "Because PUMS represents actual survey responses, it is hypothetically possible to build cross-tabulations that are not possible with normal ACS data. For instance, with normal ACS data one is able to identify the median income and racial composition of a geography, but it is not necessarily possible to derive the median income by race for that geography.\n",
    "\n",
    "Because PUMS are actual survey responses, one can build any number of cross-tabulations of individual characteristics by PUMA. For example, PUMS may allow an estimate of the median income by race and age for a PUMA.\n",
    "\n",
    "## c. Limitations of PUMS\n",
    "\n",
    "There are three primary limtations of PUMS: (1) privacy protection measures limit the utility of the data; (2) the PUMS data file is cumbersome and not easy to interpret; and (3) deriving useful information from the PUMS requires complex calculations due to sampling methodologies. Each of these measures is discussed below.\n",
    "\n",
    "### (1) Privacy limitations\n",
    "\n",
    "The Census takes two primary measures to protect respondent identies: top-coding or bottom-coding survey responses; and aggregating responses to the large PUMA geographies.\n",
    "\n",
    "\n",
    "\n",
    "## d. Other notes on PUMS data\n",
    "\n",
    "PUMS data is divided into two categories: household and person data. Household data contains characteristics of the survey respondants living quarters (such as rent/mortage costs, utility costs, number of bathrooms, etc.). Person data contains characteristics of each person in each household.\n"
   ]
  },
  {
   "cell_type": "markdown",
   "metadata": {},
   "source": [
    "# II. Preparing Data"
   ]
  },
  {
   "cell_type": "markdown",
   "metadata": {},
   "source": [
    "## a. Downloading Data"
   ]
  },
  {
   "cell_type": "markdown",
   "metadata": {},
   "source": [
    "The following is a methodology for downloading PUMS data. This downloads the 2015, 5-year person-level data for Texas. The URL in URL.PUMS.TX can be changed for different years or surveys (such as 1-year or 3-year surveys)."
   ]
  },
  {
   "cell_type": "code",
   "execution_count": null,
   "metadata": {
    "collapsed": true
   },
   "outputs": [],
   "source": [
    "#Set URL for PUMS data\n",
    "URL.PUMS.PTX <- \"https://www2.census.gov/programs-surveys/acs/data/pums/2015/5-Year/csv_ptx.zip\" \n",
    "\n",
    "#Set download destination \n",
    "destfile.PUMS.PTX <- \"csv_ptx.zip\"\n",
    "\n",
    "#Download PUMS to destination (in working directory)\n",
    "download.file(URL.PUMS.PTX, destfile.PUMS.PTX)\n",
    "print(\"PUMS data downloaded\")\n",
    "\n",
    "#Unzip file\n",
    "unzip(destfile.PUMS.PTX)\n",
    "\n",
    "#List to identify .csv name\n",
    "unzip(destfile.PUMS.PTX, list = TRUE)\n",
    "\n",
    "## Read csv into dataframe, load libraries\n",
    "\n",
    "PUMS.TX15 <- read.csv(file = \"ss15ptx.csv\", header = TRUE)"
   ]
  },
  {
   "cell_type": "markdown",
   "metadata": {},
   "source": [
    "[TO BE COMPLETED LATER] The following methodology is for downloading PUMA shapefiles. "
   ]
  },
  {
   "cell_type": "code",
   "execution_count": null,
   "metadata": {
    "collapsed": true
   },
   "outputs": [],
   "source": [
    "#Set URL for PUMA shapefiles\n",
    "URL.PUMA.TX <- \"ftp://ftp2.census.gov/geo/tiger/TIGER2015/PUMA/tl_2015_48_puma10.zip\"\n",
    "\n",
    "#Create directory\n",
    "dir.create(tl_2015_48_puma10)\n",
    "\n",
    "#Set download destination \n",
    "destfile.PUMA.TX <- \"tl_2015_48_puma10.zip\"\n",
    "\n",
    "#Download PUMA to destination (in working directory)\n",
    "download.file(URL.PUMA.TX, destfile.PUMA.TX)\n",
    "print(\"PUMS data downloaded\")\n",
    "\n",
    "#Unzip file\n",
    "unzip(destfile.PUMA.TX)"
   ]
  },
  {
   "cell_type": "markdown",
   "metadata": {},
   "source": [
    "## b. Identifying Relevant Geographies"
   ]
  },
  {
   "cell_type": "markdown",
   "metadata": {},
   "source": [
    "[NOTE: this section assumes you have already downloaded the PUMA shapefiles into a folder titled \"raw_data\" in your working directory. Also, credit John Gates for introducing and writing much of this code]"
   ]
  },
  {
   "cell_type": "markdown",
   "metadata": {},
   "source": [
    "Install necessary packages, load libraries:"
   ]
  },
  {
   "cell_type": "code",
   "execution_count": null,
   "metadata": {
    "collapsed": true
   },
   "outputs": [],
   "source": [
    "install.packages('rgdal')\n",
    "install.packages('sp')\n",
    "install.packages('leaflet')\n",
    "library(rgdal)\n",
    "library(sp)\n",
    "library(leaflet)"
   ]
  },
  {
   "cell_type": "markdown",
   "metadata": {},
   "source": [
    "Read data:\n",
    "(For ease of use, this example uses the State of Texas as an example geography, though the entire U.S. could hypothetically be used)"
   ]
  },
  {
   "cell_type": "code",
   "execution_count": null,
   "metadata": {
    "collapsed": true
   },
   "outputs": [],
   "source": [
    "shp <- readOGR(dsn=\"tl_2015_48_puma10\") #note: folder not .shp file\n",
    "tx_shp <- subset(shp, shp$STATEFP10 %in% c(\"48\"))"
   ]
  },
  {
   "cell_type": "markdown",
   "metadata": {},
   "source": [
    "Transform shapefile into appropriate projection:"
   ]
  },
  {
   "cell_type": "code",
   "execution_count": null,
   "metadata": {
    "collapsed": true
   },
   "outputs": [],
   "source": [
    "my.projection <- sp::CRS('+proj=longlat +datum=WGS84 +ellps=WGS84 +towgs84=0,0,0')\n",
    "tx_shp_t <- sp::spTransform(tx_shp, my.projection)"
   ]
  },
  {
   "cell_type": "markdown",
   "metadata": {},
   "source": [
    "Save and load shapefile into your local machine:"
   ]
  },
  {
   "cell_type": "code",
   "execution_count": null,
   "metadata": {
    "collapsed": true
   },
   "outputs": [],
   "source": [
    "save(tx_shp_t, file = \"tx_shp_t.Rdata\")\n",
    "load(\"tx_shp_t\")"
   ]
  },
  {
   "cell_type": "markdown",
   "metadata": {},
   "source": [
    "Plot map:"
   ]
  },
  {
   "cell_type": "code",
   "execution_count": null,
   "metadata": {
    "collapsed": true
   },
   "outputs": [],
   "source": [
    "leaflet(tx_shp_t) %>% \n",
    "    addTiles() %>%\n",
    "      addPolygons(\n",
    "        stroke = TRUE,\n",
    "        fillColor = \"transparent\",\n",
    "        label = tx_shp_t$PUMACE10, # SHOWS LABEL WITH COURSER HOVER\n",
    "        labelOptions = labelOptions(noHide = TRUE)\n",
    "  )"
   ]
  },
  {
   "cell_type": "markdown",
   "metadata": {},
   "source": [
    "If the plotting is working correctly, you should be able to hover your courser over geographies of interest to identify their PUMA number. We will use this in the next section to aggregate geographies of interest."
   ]
  },
  {
   "cell_type": "markdown",
   "metadata": {},
   "source": [
    "## c. Preparing Geographies for Analysis"
   ]
  },
  {
   "cell_type": "markdown",
   "metadata": {},
   "source": [
    "### Option 1: Geographies of Interest"
   ]
  },
  {
   "cell_type": "markdown",
   "metadata": {},
   "source": [
    "I am interested in the PUMAs that are contained within the jurisdiction of the Capital Area Metropolitan Planning Organization (CAMPO). CAMPO oversees a six-county region including Williamson, Travis, Hays, Bastrop, Burnet and Caldwell counties. Using the map plotted in the previous section (and knowledge of CAMPO boundaries), I identified the relevant PUMA codes."
   ]
  },
  {
   "cell_type": "markdown",
   "metadata": {},
   "source": [
    "Install, load neccesary library:"
   ]
  },
  {
   "cell_type": "code",
   "execution_count": null,
   "metadata": {
    "collapsed": true
   },
   "outputs": [],
   "source": [
    "install.packages('dplyr')\n",
    "library(dplyr)"
   ]
  },
  {
   "cell_type": "markdown",
   "metadata": {},
   "source": [
    "Set geography, filter PUMS data based on that geography:"
   ]
  },
  {
   "cell_type": "code",
   "execution_count": null,
   "metadata": {
    "collapsed": true
   },
   "outputs": [],
   "source": [
    "campo_pumas <- c(\"5201\", \"5202\", \"5203\",\"5204\", \n",
    "                 \"5305\", \"5302\", \"5301\", \"5306\",\n",
    "                 \"5303\", \"5308\", \"5307\", \"5309\",\n",
    "                 \"5304\", \"5400\")\n",
    "\n",
    "campo_pums <- PUMS.TX15 %>%\n",
    "  filter(PUMS.TX15$PUMA10 %in% campo_pumas | PUMS.TX15$PUMA00 %in% campo_pumas)"
   ]
  },
  {
   "cell_type": "markdown",
   "metadata": {},
   "source": [
    "Note: PUMA geographies are subject to revision after each U.S. decennial census. PUMS data takes this into account, noting the year in which the respondant's survey was completed.\n",
    "\n",
    "The PUMS survey we are using in this exercise covers a 5-year timespan in which surveys were completed in either the pre- or post-2010 PUMA geography. The PUMS data reflects this, containing variables identifying whether the survey was submitted within the 2000 or 2010 PUMA. The PUMA identifiers stay the same but move between the two tables depending upon when the survey was completed. Hence, we filter based on PUMA10 or PUMA00."
   ]
  },
  {
   "cell_type": "markdown",
   "metadata": {},
   "source": [
    "### Option 2: Test Geography"
   ]
  },
  {
   "cell_type": "markdown",
   "metadata": {},
   "source": [
    "There is still a lot of data in the campo_pums region derived above. If you would prefer to use a test geography, simply follow the steps in section 1 above, but only include one PUMA, such as follows:"
   ]
  },
  {
   "cell_type": "code",
   "execution_count": null,
   "metadata": {
    "collapsed": true
   },
   "outputs": [],
   "source": [
    "one_puma <- c(\"5201\")\n",
    "\n",
    "one_pums <- PUMS.TX15 %>%\n",
    "  filter(PUMS.TX15$PUMA10 %in% one_puma | PUMS.TX15$PUMA00 %in% one_puma)"
   ]
  },
  {
   "cell_type": "markdown",
   "metadata": {},
   "source": [
    "The PUMS data within this geography can be further reduced to just one survey response, again for ease of analysis:"
   ]
  },
  {
   "cell_type": "code",
   "execution_count": null,
   "metadata": {
    "collapsed": true
   },
   "outputs": [],
   "source": [
    "one_row <- one_pums[1,]"
   ]
  }
 ],
 "metadata": {
  "kernelspec": {
   "display_name": "R",
   "language": "R",
   "name": "ir"
  },
  "language_info": {
   "codemirror_mode": "r",
   "file_extension": ".r",
   "mimetype": "text/x-r-source",
   "name": "R",
   "pygments_lexer": "r",
   "version": "3.3.2"
  }
 },
 "nbformat": 4,
 "nbformat_minor": 2
}
