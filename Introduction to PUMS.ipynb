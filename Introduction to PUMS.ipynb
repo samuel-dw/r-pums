{
 "cells": [
  {
   "cell_type": "markdown",
   "metadata": {},
   "source": [
    "I. Introduction\n",
    "II. Downloading Data\n",
    "III. Estimates\n",
    "IV. Standard Error of Estimates\n",
    "V. Applications"
   ]
  },
  {
   "cell_type": "code",
   "execution_count": null,
   "metadata": {
    "collapsed": true
   },
   "outputs": [],
   "source": [
    "#Set URL for PUMS data\n",
    "URL.PUMS.PTX <- \"https://www2.census.gov/programs-surveys/acs/data/pums/2015/5-Year/csv_ptx.zip\" \n",
    "\n",
    "#Set download destination \n",
    "destfile.PUMS.PTX <- \"csv_ptx.zip\"\n",
    "\n",
    "#Download PUMS to destination (in working directory)\n",
    "download.file(URL.PUMS.PTX, destfile.PUMS.PTX)\n",
    "print(\"PUMS data downloaded\")\n",
    "\n",
    "#Unzip file\n",
    "unzip(destfile.PUMS.PTX)\n",
    "\n",
    "#List to identify .csv name\n",
    "unzip(destfile.PUMS.PTX, list = TRUE)\n",
    "\n",
    "## Read csv into dataframe, load libraries\n",
    "\n",
    "PUMS.TX15 <- read.csv(file = \"ss15ptx.csv\", header = TRUE)\n",
    "\n",
    "attach(PUMS.TX15) # For ease of writing expressions (allows column names to be called directly)\n",
    "library(dplyr)\n",
    "library(matrixStats) # To calculate weighted median\n",
    "\n",
    "## Set geographies\n",
    "  \n",
    "campo_pumas <- c(\"5201\", \"5202\", \"5203\",\"5204\", \n",
    "                 \"5305\", \"5302\", \"5301\", \"5306\",\n",
    "                 \"5303\", \"5308\", \"5307\", \"5309\",\n",
    "                 \"5304\", \"5400\")\n",
    "\n",
    "campo_pums <- subset(PUMS.TX15, PUMS.TX15$PUMA10 %in% campo_pumas | PUMS.TX15$PUMA00 %in% campo_pumas)\n",
    "\n",
    "detach(PUMS.TX15)\n",
    "attach(campo_pums)\n",
    "\n",
    "## Start extracting data"
   ]
  }
 ],
 "metadata": {
  "kernelspec": {
   "display_name": "R",
   "language": "R",
   "name": "ir"
  },
  "language_info": {
   "codemirror_mode": "r",
   "file_extension": ".r",
   "mimetype": "text/x-r-source",
   "name": "R",
   "pygments_lexer": "r",
   "version": "3.3.2"
  }
 },
 "nbformat": 4,
 "nbformat_minor": 2
}
